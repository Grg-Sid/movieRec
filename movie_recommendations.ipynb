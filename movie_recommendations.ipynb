{
 "cells": [
  {
   "cell_type": "code",
   "execution_count": 58,
   "id": "9080e734-0c11-45e7-b4ac-64d2109375af",
   "metadata": {},
   "outputs": [],
   "source": [
    "import pandas as pd\n",
    "import numpy as np\n",
    "from sklearn.feature_extraction.text import TfidfVectorizer\n",
    "from sklearn.metrics.pairwise import cosine_similarity\n",
    "import difflib\n",
    "\n",
    "movies = pd.read_csv(\"movies.csv\")\n",
    "\n",
    "movies = movies[['name', 'genre','director', 'writer', 'star', 'country', 'company']].copy()\n",
    "movies = movies.dropna()\n"
   ]
  },
  {
   "cell_type": "code",
   "execution_count": 59,
   "id": "25919743",
   "metadata": {},
   "outputs": [],
   "source": [
    "combined = ''\n",
    "for i in movies:\n",
    "    combined = combined+\" \"+movies[i] \n",
    "    \n",
    "vectorizer=TfidfVectorizer()\n",
    "feature_vector=vectorizer.fit_transform(combined)\n",
    "similarity=cosine_similarity(feature_vector)\n",
    "\n",
    "ind = []\n",
    "for i in range(7646):\n",
    "    ind.append(i)\n",
    "    \n",
    "movies['index'] = ind\n",
    "\n",
    "result = []"
   ]
  },
  {
   "cell_type": "code",
   "execution_count": 83,
   "id": "e720d1df",
   "metadata": {},
   "outputs": [],
   "source": [
    "def recommend(title):\n",
    "    movie_title = title\n",
    "    \n",
    "    res = []\n",
    "    \n",
    "    list_movie = movies['name'].tolist()\n",
    "    find_close_match = difflib.get_close_matches(movie_title,list_movie)\n",
    "    close_match = find_close_match[0]\n",
    "    \n",
    "    name_index = movies[movies.name == close_match]['index'].values[0]    \n",
    "    \n",
    "    similarity_score = list(enumerate(similarity[name_index]))\n",
    "    sorted_similar_movies = sorted(similarity_score, key = lambda x:x[1], reverse = True)\n",
    "        \n",
    "    i=1\n",
    "    for movie in sorted_similar_movies:\n",
    "        index = movie[0]\n",
    "        title_from_index = movies[movies.index == index]['name']\n",
    "        if(i < 10):\n",
    "            res.append(title_from_index.values[0])\n",
    "            i+=1\n",
    "    \n",
    "    result = res\n",
    "    return result\n",
    "    \n"
   ]
  },
  {
   "cell_type": "code",
   "execution_count": 84,
   "id": "9a2b13af",
   "metadata": {},
   "outputs": [
    {
     "data": {
      "text/plain": [
       "['Igor',\n",
       " 'Tea in the Harem',\n",
       " 'Mr. Wrong',\n",
       " 'Indiana Jones and the Last Crusade',\n",
       " 'A Polish Vampire in Burbank',\n",
       " 'Vital Signs',\n",
       " 'Blue',\n",
       " 'John Wick: Chapter 3 - Parabellum',\n",
       " 'American Outlaws']"
      ]
     },
     "execution_count": 84,
     "metadata": {},
     "output_type": "execute_result"
    }
   ],
   "source": [
    "recommend(\"Avatar\")"
   ]
  },
  {
   "cell_type": "code",
   "execution_count": null,
   "id": "67ed2821",
   "metadata": {},
   "outputs": [],
   "source": []
  }
 ],
 "metadata": {
  "kernelspec": {
   "display_name": "Python 3 (ipykernel)",
   "language": "python",
   "name": "python3"
  },
  "language_info": {
   "codemirror_mode": {
    "name": "ipython",
    "version": 3
   },
   "file_extension": ".py",
   "mimetype": "text/x-python",
   "name": "python",
   "nbconvert_exporter": "python",
   "pygments_lexer": "ipython3",
   "version": "3.9.13"
  }
 },
 "nbformat": 4,
 "nbformat_minor": 5
}
